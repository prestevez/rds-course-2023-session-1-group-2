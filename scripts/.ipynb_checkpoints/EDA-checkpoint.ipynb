{
 "cells": [
  {
   "cell_type": "markdown",
   "id": "acc3e48c-5d8d-4dfb-b6a4-ecbc2513b7e5",
   "metadata": {},
   "source": [
    "# EDA EQLTS Data"
   ]
  },
  {
   "cell_type": "code",
   "execution_count": 1,
   "id": "f814758d-c9c3-40c3-8bc0-db186fd99824",
   "metadata": {},
   "outputs": [
    {
     "name": "stdout",
     "output_type": "stream",
     "text": [
      "       Wave  Y11_Country  Y11_Q31  Y11_Q32  Y11_ISCEDsimple  Y11_Q49  \\\n",
      "0         2            1      4.0      0.0              4.0      4.0   \n",
      "1         2            1      4.0      0.0              4.0      4.0   \n",
      "2         2            1      1.0      2.0              3.0      2.0   \n",
      "3         2            1      2.0      0.0              3.0      1.0   \n",
      "4         2            1      4.0      0.0              3.0      4.0   \n",
      "...     ...          ...      ...      ...              ...      ...   \n",
      "79265     3           28      1.0      2.0              2.0      4.0   \n",
      "79266     3           28      3.0      3.0              2.0      3.0   \n",
      "79267     3           28      1.0      2.0              3.0      4.0   \n",
      "79268     3           28      4.0      0.0              6.0      4.0   \n",
      "79269     3           28      1.0      2.0              3.0      4.0   \n",
      "\n",
      "       Y11_Q67_1  Y11_Q67_2  Y11_Q67_3  Y11_Q67_4  ...  DV_Q54a  DV_Q54b  \\\n",
      "0            NaN        NaN        NaN        NaN  ...      NaN      NaN   \n",
      "1            NaN        NaN        NaN        NaN  ...      NaN      NaN   \n",
      "2            NaN        NaN        NaN        NaN  ...      NaN      NaN   \n",
      "3            NaN        NaN        NaN        NaN  ...      NaN      NaN   \n",
      "4            NaN        NaN        NaN        NaN  ...      NaN      NaN   \n",
      "...          ...        ...        ...        ...  ...      ...      ...   \n",
      "79265        2.0        1.0        1.0        1.0  ...      3.0      3.0   \n",
      "79266        2.0        1.0        1.0        1.0  ...      3.0      3.0   \n",
      "79267        2.0        1.0        1.0        1.0  ...      3.0      3.0   \n",
      "79268        2.0        1.0        1.0        1.0  ...      3.0      3.0   \n",
      "79269        2.0        1.0        1.0        1.0  ...      3.0      3.0   \n",
      "\n",
      "       DV_Q55  DV_Q56  DV_Q8  DV_Q10  \\\n",
      "0         NaN     NaN    NaN     NaN   \n",
      "1         NaN     NaN    NaN     NaN   \n",
      "2         NaN     NaN    NaN     NaN   \n",
      "3         NaN     NaN    NaN     NaN   \n",
      "4         NaN     NaN    NaN     NaN   \n",
      "...       ...     ...    ...     ...   \n",
      "79265     0.0     0.0    4.0     4.0   \n",
      "79266     0.0     0.0    4.0     4.0   \n",
      "79267     0.0     0.0    4.0     4.0   \n",
      "79268     0.0     0.0    4.0     4.0   \n",
      "79269     0.0     0.0    4.0     4.0   \n",
      "\n",
      "                                    ISO3166_Country  RowID  \\\n",
      "0      https://www.iso.org/obp/ui/#iso:code:3166:AT      1   \n",
      "1      https://www.iso.org/obp/ui/#iso:code:3166:AT      2   \n",
      "2      https://www.iso.org/obp/ui/#iso:code:3166:AT      3   \n",
      "3      https://www.iso.org/obp/ui/#iso:code:3166:AT      4   \n",
      "4      https://www.iso.org/obp/ui/#iso:code:3166:AT      5   \n",
      "...                                             ...    ...   \n",
      "79265  https://www.iso.org/obp/ui/#iso:code:3166:TR  79266   \n",
      "79266  https://www.iso.org/obp/ui/#iso:code:3166:TR  79267   \n",
      "79267  https://www.iso.org/obp/ui/#iso:code:3166:TR  79268   \n",
      "79268  https://www.iso.org/obp/ui/#iso:code:3166:TR  79269   \n",
      "79269  https://www.iso.org/obp/ui/#iso:code:3166:TR  79270   \n",
      "\n",
      "                                                URIRowID   UniqueID  \n",
      "0      https://api.ukdataservice.ac.uk/V1/datasets/eq...  AT9000083  \n",
      "1      https://api.ukdataservice.ac.uk/V1/datasets/eq...  AT9000126  \n",
      "2      https://api.ukdataservice.ac.uk/V1/datasets/eq...  AT9000267  \n",
      "3      https://api.ukdataservice.ac.uk/V1/datasets/eq...  AT9000268  \n",
      "4      https://api.ukdataservice.ac.uk/V1/datasets/eq...  AT9000427  \n",
      "...                                                  ...        ...  \n",
      "79265  https://api.ukdataservice.ac.uk/V1/datasets/eq...  IS4061415  \n",
      "79266  https://api.ukdataservice.ac.uk/V1/datasets/eq...  IS4063922  \n",
      "79267  https://api.ukdataservice.ac.uk/V1/datasets/eq...  IS4065621  \n",
      "79268  https://api.ukdataservice.ac.uk/V1/datasets/eq...  IS4066319  \n",
      "79269  https://api.ukdataservice.ac.uk/V1/datasets/eq...  IS4067825  \n",
      "\n",
      "[79270 rows x 199 columns]\n"
     ]
    }
   ],
   "source": [
    "import pandas as pd\n",
    "\n",
    "df = pd.read_csv(r'../data/UKDA-7724-csv/csv/eqls_2007and2011.csv')\n",
    "print(df)"
   ]
  }
 ],
 "metadata": {
  "kernelspec": {
   "display_name": "Python 3 (ipykernel)",
   "language": "python",
   "name": "python3"
  },
  "language_info": {
   "codemirror_mode": {
    "name": "ipython",
    "version": 3
   },
   "file_extension": ".py",
   "mimetype": "text/x-python",
   "name": "python",
   "nbconvert_exporter": "python",
   "pygments_lexer": "ipython3",
   "version": "3.8.10"
  }
 },
 "nbformat": 4,
 "nbformat_minor": 5
}
